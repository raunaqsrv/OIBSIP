{
  "cells": [
    {
      "cell_type": "markdown",
      "metadata": {
        "id": "view-in-github",
        "colab_type": "text"
      },
      "source": [
        "<a href=\"https://colab.research.google.com/github/raunaqsrv/OIBSIP/blob/main/Basic_Weather_App.ipynb\" target=\"_parent\"><img src=\"https://colab.research.google.com/assets/colab-badge.svg\" alt=\"Open In Colab\"/></a>"
      ]
    },
    {
      "cell_type": "markdown",
      "source": [
        "Name: Raunaq Srivastava\n",
        "\n",
        "Task: Basic Weather App"
      ],
      "metadata": {
        "id": "sKagXp5QIxJu"
      }
    },
    {
      "cell_type": "code",
      "source": [
        "import requests\n",
        "\n",
        "api_key = '6e91f61aa120f5229c631164b2d0a63c'\n",
        "\n",
        "user_input = input(\"Enter City: \")\n",
        "\n",
        "weather_data = requests.get(\n",
        "    f\"https://api.openweathermap.org/data/2.5/weather?q={user_input}&units=imperial&APPID={api_key}\")\n",
        "\n",
        "weather = weather_data.json()['weather'][0]['main']\n",
        "\n",
        "temp = round(weather_data.json()['main']['temp'])\n",
        "\n",
        "print(f\"The weather in {user_input} is {weather}\")\n",
        "print(f\"The temperature in {user_input} is {temp}°F\")"
      ],
      "metadata": {
        "id": "khoPnoxAIudW",
        "colab": {
          "base_uri": "https://localhost:8080/"
        },
        "outputId": "762df4c7-5c93-4082-8f84-fa2085a731e3"
      },
      "execution_count": 1,
      "outputs": [
        {
          "output_type": "stream",
          "name": "stdout",
          "text": [
            "Enter City: Pune\n",
            "The weather in Pune is Clouds\n",
            "The temperature in Pune is 75°F\n"
          ]
        }
      ]
    }
  ],
  "metadata": {
    "colab": {
      "toc_visible": true,
      "provenance": [],
      "include_colab_link": true
    },
    "kernelspec": {
      "display_name": "Python 3",
      "name": "python3"
    }
  },
  "nbformat": 4,
  "nbformat_minor": 0
}