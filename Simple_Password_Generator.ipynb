{
  "cells": [
    {
      "cell_type": "markdown",
      "metadata": {
        "id": "view-in-github",
        "colab_type": "text"
      },
      "source": [
        "<a href=\"https://colab.research.google.com/github/raunaqsrv/OIBSIP/blob/main/Simple_Password_Generator.ipynb\" target=\"_parent\"><img src=\"https://colab.research.google.com/assets/colab-badge.svg\" alt=\"Open In Colab\"/></a>"
      ]
    },
    {
      "cell_type": "markdown",
      "source": [
        "Name: Raunaq Srivastava"
      ],
      "metadata": {
        "id": "fPhZYvOJ6pld"
      }
    },
    {
      "cell_type": "markdown",
      "source": [
        "Task: Simple Password Generator"
      ],
      "metadata": {
        "id": "Ud443erQ6tuV"
      }
    },
    {
      "cell_type": "code",
      "source": [
        "import random\n",
        "\n",
        "uppercase_letters = \"ABCDEFGHIJKLMNOPQRSTUVWXYZ\"\n",
        "lowercase_letters = \"abcdefghijklmnopqrstuvwxyz\"\n",
        "digits = \"0123456789\"\n",
        "symbols = \"()[]{},;:.-_/\\\\?*#\"\n",
        "\n",
        "upper, lower, nums, syms = True, True, True, True\n",
        "\n",
        "all = \"\"\n",
        "\n",
        "if upper:\n",
        "    all += uppercase_letters\n",
        "if lower:\n",
        "    all += lowercase_letters\n",
        "if nums:\n",
        "    all += digits\n",
        "if syms:\n",
        "    all += symbols\n",
        "\n",
        "length = 10\n",
        "amount = 1\n",
        "\n",
        "for x in range(amount):\n",
        "    password = \"\".join(random.sample(all, length))\n",
        "    print(password)\n"
      ],
      "metadata": {
        "id": "9YuYX2NX6zGG",
        "outputId": "e7f74c58-847f-45a4-8c92-b0d6940eff87",
        "colab": {
          "base_uri": "https://localhost:8080/"
        }
      },
      "execution_count": null,
      "outputs": [
        {
          "output_type": "stream",
          "name": "stdout",
          "text": [
            "KP5)3r*OX7\n"
          ]
        }
      ]
    }
  ],
  "metadata": {
    "colab": {
      "toc_visible": true,
      "provenance": [],
      "include_colab_link": true
    },
    "kernelspec": {
      "display_name": "Python 3",
      "name": "python3"
    }
  },
  "nbformat": 4,
  "nbformat_minor": 0
}