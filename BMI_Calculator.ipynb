{
  "cells": [
    {
      "cell_type": "markdown",
      "metadata": {
        "id": "view-in-github",
        "colab_type": "text"
      },
      "source": [
        "<a href=\"https://colab.research.google.com/github/raunaqsrv/OIBSIP/blob/main/BMI_Calculator.ipynb\" target=\"_parent\"><img src=\"https://colab.research.google.com/assets/colab-badge.svg\" alt=\"Open In Colab\"/></a>"
      ]
    },
    {
      "cell_type": "markdown",
      "source": [
        "Name: Raunaq Srivastava"
      ],
      "metadata": {
        "id": "ivVKmo1-ByBq"
      }
    },
    {
      "cell_type": "markdown",
      "source": [
        "Task: BMI Calculator"
      ],
      "metadata": {
        "id": "C2N3OpALB70B"
      }
    },
    {
      "cell_type": "code",
      "source": [
        "name = input(\"enter your name:\")\n",
        "weight = float(input(\"enter your weight in kg:\"))\n",
        "height = float(input(\"enter your height in meters:\"))\n",
        "\n",
        "bmi = weight / (height **2)\n",
        "if(bmi < 18.5 ):\n",
        "  print(name,\" is Underweight\")\n",
        "elif(bmi >= 18.5 and bmi < 24.9):\n",
        "  print(name, \"Healthy weight\")\n",
        "elif(bmi >=25 and bmi < 29.9 ):\n",
        "  print(name, \"Overweight\")\n",
        "else:\n",
        "  print(name, \"Obese\")"
      ],
      "metadata": {
        "id": "UwE7XzHr5yKz"
      },
      "execution_count": null,
      "outputs": []
    }
  ],
  "metadata": {
    "colab": {
      "toc_visible": true,
      "provenance": [],
      "include_colab_link": true
    },
    "kernelspec": {
      "display_name": "Python 3",
      "name": "python3"
    }
  },
  "nbformat": 4,
  "nbformat_minor": 0
}